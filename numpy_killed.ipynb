{
 "cells": [
  {
   "cell_type": "code",
   "execution_count": 60,
   "id": "eb862945",
   "metadata": {
    "scrolled": true
   },
   "outputs": [
    {
     "name": "stdout",
     "output_type": "stream",
     "text": [
      "[0. 2. 7. ... 0. 0. 0.]\n",
      "26445.0\n"
     ]
    }
   ],
   "source": [
    "import numpy as np\n",
    "import csv\n",
    "with open('dataset/year2017.csv') as file_obj:\n",
    "    file_data = csv.DictReader(file_obj,skipinitialspace = True)\n",
    "    sum=0\n",
    "    kill =[]\n",
    "    wound = []\n",
    "    for row in file_data:\n",
    "        kill.append(row['Killed'])\n",
    "        wound.append(row['Wounded'])\n",
    "        \n",
    "    np_kill = np.array(kill)\n",
    "    np_wound = np.array(wound)\n",
    "    s = np_kill==''\n",
    "    s1 = np_wound == ''\n",
    "    np_kill[s] = '0.0'\n",
    "    np_wound[s1] ='0.0'\n",
    "    \n",
    "    \n",
    "    np_kill = np.array(np_kill,dtype =float)\n",
    "    np_wound = np.array(np_wound,dtype = float)\n",
    "    c = np_kill + np_wound\n",
    "    print(c)\n",
    "    print(np.sum(np_kill))\n",
    "    np_\n",
    "   "
   ]
  },
  {
   "cell_type": "code",
   "execution_count": null,
   "id": "7259297a",
   "metadata": {},
   "outputs": [],
   "source": []
  },
  {
   "cell_type": "code",
   "execution_count": null,
   "id": "a400ae6f",
   "metadata": {},
   "outputs": [],
   "source": []
  },
  {
   "cell_type": "code",
   "execution_count": null,
   "id": "26c421c4",
   "metadata": {},
   "outputs": [],
   "source": []
  },
  {
   "cell_type": "code",
   "execution_count": null,
   "id": "0779b4e6",
   "metadata": {},
   "outputs": [],
   "source": []
  }
 ],
 "metadata": {
  "kernelspec": {
   "display_name": "Python 3 (ipykernel)",
   "language": "python",
   "name": "python3"
  },
  "language_info": {
   "codemirror_mode": {
    "name": "ipython",
    "version": 3
   },
   "file_extension": ".py",
   "mimetype": "text/x-python",
   "name": "python",
   "nbconvert_exporter": "python",
   "pygments_lexer": "ipython3",
   "version": "3.9.12"
  }
 },
 "nbformat": 4,
 "nbformat_minor": 5
}
